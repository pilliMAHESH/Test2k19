{
 "cells": [
  {
   "cell_type": "code",
   "execution_count": 9,
   "metadata": {},
   "outputs": [
    {
     "name": "stdout",
     "output_type": "stream",
     "text": [
      "enter mailpillimahesh@gmail.com\n",
      "matched\n"
     ]
    }
   ],
   "source": [
    "import re\n",
    "def main():\n",
    "    #pwd1=input(\"enter roll num\")\n",
    "    pwd='16r01a05e0'\n",
    "    num='9391685208'\n",
    "    #num1=input(\"enter num\")\n",
    "    #mail1='sandyjordan001@gmail.com'\n",
    "    mail=input(\"enter mail\")\n",
    "    reg=\"[1][6][rR][0][1][aA][0][0-9][a-z][0-9]\"\n",
    "    reg1=\"[6-9][0-9][0-9][0-9][0-9][0-9][0-9][0-9][0-9][0-9]\"\n",
    "    reg2=\"[6-9][0-9]{9}\"\n",
    "    reg3=\"[a-z0-9]{5,14}[@][a-z]{3,12}[.][a-z]{2,3}\"\n",
    "    pat=re.compile(reg)\n",
    "    pat2=re.compile(reg2)\n",
    "    pat3=re.compile(reg3)\n",
    "     \n",
    "    mat=re.search(pat,pwd)\n",
    "    mat1=re.search(pat2,num)\n",
    "    mat2=re.search(pat3,mail)\n",
    "    \n",
    "    if mat and mat1 and mat2:\n",
    "        print(\"matched\")\n",
    "    else:\n",
    "        print(\"false\")\n",
    "        \n",
    "\n",
    "if __name__=='__main__':\n",
    "    main()"
   ]
  },
  {
   "cell_type": "markdown",
   "metadata": {},
   "source": [
    "## date and time arthimetic"
   ]
  },
  {
   "cell_type": "code",
   "execution_count": 15,
   "metadata": {},
   "outputs": [
    {
     "name": "stdout",
     "output_type": "stream",
     "text": [
      "2019-07-23 15:33:52.397102\n"
     ]
    }
   ],
   "source": [
    "import datetime\n",
    "thisyear = datetime.datetime.now()\n",
    "thisyear.year\n",
    "print(thisyear)"
   ]
  },
  {
   "cell_type": "code",
   "execution_count": 16,
   "metadata": {},
   "outputs": [
    {
     "name": "stdout",
     "output_type": "stream",
     "text": [
      "['MAXYEAR', 'MINYEAR', '__builtins__', '__cached__', '__doc__', '__file__', '__loader__', '__name__', '__package__', '__spec__', 'date', 'datetime', 'datetime_CAPI', 'sys', 'time', 'timedelta', 'timezone', 'tzinfo']\n"
     ]
    }
   ],
   "source": [
    "print(dir(datetime))"
   ]
  },
  {
   "cell_type": "code",
   "execution_count": 19,
   "metadata": {},
   "outputs": [
    {
     "data": {
      "text/plain": [
       "'ufhdhfdj'"
      ]
     },
     "execution_count": 19,
     "metadata": {},
     "output_type": "execute_result"
    }
   ],
   "source": [
    "#with out using libraries\n",
    "l1='jdfhdhfuhfuskufh'\n",
    "l1[7::-1]"
   ]
  },
  {
   "cell_type": "code",
   "execution_count": 21,
   "metadata": {},
   "outputs": [
    {
     "data": {
      "text/plain": [
       "'86'"
      ]
     },
     "execution_count": 21,
     "metadata": {},
     "output_type": "execute_result"
    }
   ],
   "source": [
    "s1='9391685208'\n",
    "s1[5:3:-1]"
   ]
  },
  {
   "cell_type": "code",
   "execution_count": 23,
   "metadata": {},
   "outputs": [
    {
     "data": {
      "text/plain": [
       "True"
      ]
     },
     "execution_count": 23,
     "metadata": {},
     "output_type": "execute_result"
    }
   ],
   "source": [
    "import calendar\n",
    "calendar.isleap(2016)"
   ]
  },
  {
   "cell_type": "code",
   "execution_count": null,
   "metadata": {},
   "outputs": [],
   "source": []
  },
  {
   "cell_type": "code",
   "execution_count": 28,
   "metadata": {},
   "outputs": [
    {
     "name": "stdout",
     "output_type": "stream",
     "text": [
      "enter year2019\n",
      "false\n"
     ]
    }
   ],
   "source": [
    "yr=int(input(\"enter year\"))\n",
    "if ((yr%4==0 or yr %400==0) and yr%100!=0):\n",
    "    print(\"leap\")\n",
    "else:\n",
    "    print('false')"
   ]
  },
  {
   "cell_type": "code",
   "execution_count": 2,
   "metadata": {},
   "outputs": [
    {
     "data": {
      "text/plain": [
       "55"
      ]
     },
     "execution_count": 2,
     "metadata": {},
     "output_type": "execute_result"
    }
   ],
   "source": [
    "sum(list(range(10+1)))"
   ]
  },
  {
   "cell_type": "code",
   "execution_count": 6,
   "metadata": {},
   "outputs": [
    {
     "name": "stdout",
     "output_type": "stream",
     "text": [
      "enter5\n",
      "2.23606797749979\n"
     ]
    }
   ],
   "source": [
    "from math import sqrt\n",
    "\n",
    "n=int(input(\"enter\"))\n",
    "print(sqrt(n))"
   ]
  },
  {
   "cell_type": "markdown",
   "metadata": {},
   "source": [
    "### List comprehension"
   ]
  },
  {
   "cell_type": "code",
   "execution_count": 7,
   "metadata": {},
   "outputs": [
    {
     "data": {
      "text/plain": [
       "[1, 4, 9, 16, 25]"
      ]
     },
     "execution_count": 7,
     "metadata": {},
     "output_type": "execute_result"
    }
   ],
   "source": [
    "def sqrtt(l1):\n",
    "    \n",
    "    return [i**2 for i in l1]\n",
    "sqrtt(list(range(1,6)))"
   ]
  },
  {
   "cell_type": "code",
   "execution_count": null,
   "metadata": {},
   "outputs": [],
   "source": [
    "def div9(l1):\n",
    "    return [(i//9==0) for i in l1]\n"
   ]
  },
  {
   "cell_type": "markdown",
   "metadata": {},
   "source": [
    "## Maps\n"
   ]
  },
  {
   "cell_type": "code",
   "execution_count": 5,
   "metadata": {},
   "outputs": [
    {
     "name": "stdout",
     "output_type": "stream",
     "text": [
      "182764125"
     ]
    }
   ],
   "source": [
    "def cubee(n):\n",
    "    print(n**3,end=\" \")\n",
    "l1=[1,2,3,4,5]\n",
    "x=list(map(cubee,l1))\n"
   ]
  },
  {
   "cell_type": "markdown",
   "metadata": {},
   "source": [
    "## Num to word"
   ]
  },
  {
   "cell_type": "code",
   "execution_count": 19,
   "metadata": {},
   "outputs": [
    {
     "name": "stdout",
     "output_type": "stream",
     "text": [
      "2\n"
     ]
    },
    {
     "data": {
      "text/plain": [
       "'Twenty-Three'"
      ]
     },
     "execution_count": 19,
     "metadata": {},
     "output_type": "execute_result"
    }
   ],
   "source": [
    "#num2words = {1: 'One', 2: 'Two', 3: 'Three', 4: 'Four', 5: 'Five', \\\n",
    "            6: 'Six', 7: 'Seven', 8: 'Eight', 9: 'Nine', 10: 'Ten', \\\n",
    "            11: 'Eleven', 12: 'Twelve', 13: 'Thirteen', 14: 'Fourteen', \\\n",
    "            15: 'Fifteen', 16: 'Sixteen', 17: 'Seventeen', 18: 'Eighteen', 19: 'Nineteen'}\n",
    "num2words1=['one', 'Two', 'Three', 'Four',  'Five', \\\n",
    "            'Six', 'Seven',  'Eight',  'Nine', 'Ten', \\\n",
    "            'Eleven', 'Twelve',  'Thirteen', 'Fourteen', \\\n",
    "            'Fifteen', 'Sixteen', 'Seventeen', 'Eighteen', 'Nineteen']\n",
    "\n",
    "\n",
    "#num2words2 = [Twenty','Thirty', 'Forty', 'Fifty', 'Sixty', 'Seventy', 'Eighty', 'Ninety']\n",
    "num2words2 = ['Twenty', 'Thirty', 'Forty', 'Fifty', 'Sixty', 'Seventy', 'Eighty', 'Ninety']\n",
    "num2words3=['hundred','thousand']\n",
    "\n",
    "def number(Number):\n",
    "    if 1 <= Number < 19:\n",
    "        return num2words1[Number-1]\n",
    "    elif 20 <= Number <= 99:\n",
    "        \n",
    "        n=Number//10\n",
    "        print(n)\n",
    "        n1=Number%10\n",
    "        return num2words2[n-2]+'-'+num2words1[n1-1]\n",
    "    elif 99<=Number>=1000:\n",
    "        while(Number!=0):\n",
    "            i=Number%10\n",
    "            l1.append()\n",
    "            \n",
    "        \n",
    "        \n",
    "        print(\"Number out of range\")\n",
    "number(23)"
   ]
  },
  {
   "cell_type": "markdown",
   "metadata": {},
   "source": [
    "## "
   ]
  }
 ],
 "metadata": {
  "kernelspec": {
   "display_name": "Python 3",
   "language": "python",
   "name": "python3"
  },
  "language_info": {
   "codemirror_mode": {
    "name": "ipython",
    "version": 3
   },
   "file_extension": ".py",
   "mimetype": "text/x-python",
   "name": "python",
   "nbconvert_exporter": "python",
   "pygments_lexer": "ipython3",
   "version": "3.7.3"
  }
 },
 "nbformat": 4,
 "nbformat_minor": 2
}
