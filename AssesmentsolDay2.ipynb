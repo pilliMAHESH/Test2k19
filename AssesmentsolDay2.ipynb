{
 "cells": [
  {
   "cell_type": "markdown",
   "metadata": {},
   "source": [
    "#1. Write a Python program to convert a given  list to a tuple. [5, 10, 7, 4, 15, 3] \n",
    "2. Write a Python program to get the 4th element from first  and 4th element from last of a tuple. \n",
    "\n",
    "( \"p\" , \"y\" , \"t\", \"h\" , \"o\" , \"n\" , \"p\" , \"r\" , \"o\" , \"g\" , \"r\" , \"a\" , \"m\" , \"m\" , \"i\" , \"n\" , \"g\" )\n",
    "\n",
    "3. Write a python program to find largest number in a given list with out using max() .[10, 7 , 0 ,14 , 4 , 2 ]\n",
    "\n",
    "4. Write a python program to print all even numbers from a given list .[111 , 4 , 7 , 16 , 27 , 40 , 18 , 99 ,101, 14]\n",
    "\n",
    "5. Write a Python script to add a key to a dictionary. \n",
    "\n",
    "     Sample Dictionary : {0: 10, 1: 20}\n",
    "\n",
    "     Expected Result : {0: 10, 1: 20, 2: 30}\n",
    "\n",
    "6. Write a Python script to generate and print a dictionary that contains a number (between 1 and n) in the              form (x, x*x) \n",
    "\n",
    "     Sample Dictionary ( n = 5) : \n",
    "\n",
    "     Expected Output : {1: 1, 2: 4, 3: 9, 4: 16, 5: 25} \n",
    "\n"
   ]
  },
  {
   "cell_type": "code",
   "execution_count": 1,
   "metadata": {},
   "outputs": [
    {
     "name": "stdout",
     "output_type": "stream",
     "text": [
      "(1, 2, 3, 4, 5)\n"
     ]
    }
   ],
   "source": [
    "# answer 1\n",
    "lt=[1,2,3,4,5]\n",
    "print(tuple(lt))"
   ]
  },
  {
   "cell_type": "code",
   "execution_count": null,
   "metadata": {},
   "outputs": [],
   "source": []
  },
  {
   "cell_type": "code",
   "execution_count": 4,
   "metadata": {},
   "outputs": [
    {
     "name": "stdout",
     "output_type": "stream",
     "text": [
      "h\n",
      "m\n"
     ]
    }
   ],
   "source": [
    "# Answer 2\n",
    "t1=('p','y','t','h','o','n','p','r','o','g','r','a','m','m','i','n','g')\n",
    "b=len(t1)\n",
    "print(t1[3])\n",
    "print(t1[b-4])"
   ]
  },
  {
   "cell_type": "code",
   "execution_count": 7,
   "metadata": {},
   "outputs": [
    {
     "name": "stdout",
     "output_type": "stream",
     "text": [
      "15\n"
     ]
    }
   ],
   "source": [
    "# Answer 3\n",
    "list=[1,2,15,3,4,9,10,13]\n",
    "max=0\n",
    "for i in list:\n",
    "    if i>max:\n",
    "        max=i\n",
    "print(max)"
   ]
  },
  {
   "cell_type": "code",
   "execution_count": 10,
   "metadata": {},
   "outputs": [
    {
     "name": "stdout",
     "output_type": "stream",
     "text": [
      "{0: 10, 1: 20}\n",
      "dic after adding\n",
      "{0: 10, 1: 20, 2: 30}\n"
     ]
    }
   ],
   "source": [
    "# Answer 5\n",
    "dic={0:10,1:20}\n",
    "print(dic)\n",
    "print(\"dic after adding\")\n",
    "dic[2]=30\n",
    "print(dic)\n"
   ]
  },
  {
   "cell_type": "code",
   "execution_count": 14,
   "metadata": {},
   "outputs": [
    {
     "name": "stdout",
     "output_type": "stream",
     "text": [
      "enter number5\n",
      "{1: 1, 2: 4, 3: 9, 4: 16, 5: 25}\n"
     ]
    }
   ],
   "source": [
    "# Answer 6\n",
    "dic={}\n",
    "n=int(input(\"enter number\"))\n",
    "for i in range(1,n+1):\n",
    "    dic[i]=i*i\n",
    "print(dic)"
   ]
  },
  {
   "cell_type": "code",
   "execution_count": 17,
   "metadata": {},
   "outputs": [
    {
     "name": "stdout",
     "output_type": "stream",
     "text": [
      "[4, 16, 40, 18, 14]\n"
     ]
    }
   ],
   "source": [
    "# Answer 4 Write a python program to print all even numbers from a given list .[111 , 4 , 7 , 16 , 27 , 40 , 18 , 99 ,101, 14]\n",
    "lt=[111,4,7,16,27,40,18,99,101,14]\n",
    "bt=[]\n",
    "for i in lt:\n",
    "    if(i%2==0):\n",
    "        bt.append(i)\n",
    "\n",
    "print(bt)\n",
    "    "
   ]
  },
  {
   "cell_type": "code",
   "execution_count": null,
   "metadata": {},
   "outputs": [],
   "source": []
  }
 ],
 "metadata": {
  "kernelspec": {
   "display_name": "Python 3",
   "language": "python",
   "name": "python3"
  },
  "language_info": {
   "codemirror_mode": {
    "name": "ipython",
    "version": 3
   },
   "file_extension": ".py",
   "mimetype": "text/x-python",
   "name": "python",
   "nbconvert_exporter": "python",
   "pygments_lexer": "ipython3",
   "version": "3.7.3"
  }
 },
 "nbformat": 4,
 "nbformat_minor": 2
}
